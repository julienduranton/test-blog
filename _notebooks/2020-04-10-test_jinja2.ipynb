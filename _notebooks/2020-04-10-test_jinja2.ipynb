{
 "cells": [
  {
   "cell_type": "markdown",
   "metadata": {},
   "source": [
    "# Test of Jinja2\n",
    "> xxx\n",
    "\n",
    "-toc: true"
   ]
  },
  {
   "cell_type": "markdown",
   "metadata": {},
   "source": [
    "### 1- Data by Country"
   ]
  },
  {
   "cell_type": "code",
   "execution_count": 1,
   "metadata": {},
   "outputs": [],
   "source": [
    "#hide_input\n",
    "import ipywidgets as widgets\n",
    "import altair as alt\n",
    "from IPython.display import display\n",
    "from ipywidgets import interact\n",
    "import pandas as pd\n",
    "from vega_datasets import data as data_world\n",
    "\n",
    "sigma = 0.01\n",
    "rho = 0.01\n",
    "tab_name = 'Param_pcm1_esig_{:3.2f}_erho_{:3.2f}'.format(sigma,rho)\n",
    "\n",
    "\n",
    "\n",
    "data = pd.read_excel(\"C:\\\\Users\\\\julie\\\\Documents\\\\GitHub\\\\test-blog\\\\input_data\\\\results_baseline.xlsx\",sheet_name=tab_name)\n",
    "\n",
    "def prepare_df(data):\n",
    "    mapping_industry = pd.read_csv(\"C:\\\\Users\\\\julie\\\\Documents\\\\GitHub\\\\test-blog\\\\input_data\\\\Indcode.csv\")\n",
    "\n",
    "    old_columns = data.columns.values.tolist()\n",
    "    new_columns = ['years','country','Indcode','beta', 'alpha']\n",
    "    new_columns = new_columns + mapping_industry.Name.values.tolist()\n",
    "    new_columns = new_columns + ['s', 'markups', 'markups_supplier', 'xshare']\n",
    "\n",
    "    columns_dict = {old_columns[i]: new_columns[i] for i in range(len(old_columns))}\n",
    "\n",
    "    data_renamed = data.rename(columns=columns_dict)\n",
    "    data_renamed = data_renamed.merge(mapping_industry, on='Indcode', how='left')\n",
    "    data_renamed = data_renamed.drop(columns = ['years'])\n",
    "\n",
    "\n",
    "    data_markups = data_renamed.drop(columns=mapping_industry.Name.values.tolist()+['beta', 'alpha', 's', 'xshare'])\n",
    "    data_indicators = data_renamed.drop(columns=mapping_industry.Name.values.tolist()+['markups_supplier','markups'])\n",
    "    data_flows = data_renamed.drop(columns=['beta', 'alpha', 's', 'markups', 'markups_supplier', 'xshare'])\n",
    "    data_flows = data_flows.rename(columns={'Name':'Buyers', 'suppliers':'Suppliers'})\n",
    "\n",
    "    data_indicators = data_indicators.melt(['country','Name','Indcode'], var_name='indicators', value_name='value')\n",
    "    data_flows = data_flows.melt(['country','Buyers', 'Indcode'], var_name='Suppliers', value_name='value')\n",
    "    data_flows['Indcode_suppliers'] = [mapping_industry[mapping_industry.Name == data_flows.Suppliers[i]].Indcode for i in data_flows.index.tolist()]\n",
    "\n",
    "    country_codes = pd.read_csv('C:\\\\Users\\\\julie\\\\Documents\\\\GitHub\\\\test-blog\\\\input_data\\\\countries_codes_and_coordinates.csv', \n",
    "                            )\n",
    "    country_codes = country_codes.rename(columns={'Alpha-3 code':'country'})                                                                      \n",
    "    data_countries = pd.DataFrame(data_renamed.country.unique(), columns=['country'])\n",
    "    data_countries = data_countries.merge(country_codes, on='country', how='left')\n",
    "    return data_markups, data_indicators, data_flows, data_countries\n",
    "    "
   ]
  },
  {
   "cell_type": "code",
   "execution_count": 2,
   "metadata": {},
   "outputs": [],
   "source": [
    "#hide_input\n",
    "\n",
    "def prepare_graphs(data_df):\n",
    "    data_markups, data_indicators, data_flows, data_countries = prepare_df(data_df)\n",
    "\n",
    "    source = alt.topo_feature(data_world.world_110m.url, 'countries')\n",
    "\n",
    "\n",
    "    alt.data_transformers.disable_max_rows()\n",
    "\n",
    "    background = alt.Chart(source).mark_geoshape(\n",
    "        fill='lightgray',\n",
    "        stroke='white'\n",
    "    ).properties(\n",
    "        width=800,\n",
    "        height=600\n",
    "    ).project(type='equirectangular')\n",
    "\n",
    "    selector = alt.selection_single(empty='all', fields=['country'],bind='legend', init={'country':'FRA'})\n",
    "\n",
    "    # Define the 3 Charts\n",
    "    chart_1 = alt.Chart(data_indicators, width=700, height=300).mark_bar().transform_filter(\n",
    "        alt.FieldOneOfPredicate(field='indicators', oneOf=['s','beta'])).encode(\n",
    "        x=alt.X('Name:N', sort=alt.SortField(field='Indcode', order='ascending'), axis=alt.Axis(title='Sectors', labelAngle=45)),\n",
    "        y=alt.Y('value:Q',stack=None),\n",
    "        opacity=alt.Opacity('indicators',scale=alt.Scale(domain=['beta','s'], range=[1.0,0.5]), legend=None),\n",
    "        color=alt.Color('indicators', scale=alt.Scale(domain=['beta','s'], range=['red','blue']), legend=alt.Legend(orient=\"top-left\"))).add_selection(selector)\n",
    "\n",
    "    chart_2 = alt.Chart(data_markups, width=800, height=300).mark_point().encode(\n",
    "        x='markups:Q',\n",
    "        y='markups_supplier:Q',\n",
    "        tooltip=['Name', 'country', 'markups', 'markups_supplier']).add_selection(selector)\n",
    "\n",
    "    chart_3 = alt.Chart(data_flows,width = 500, height = 500).mark_rect().encode(\n",
    "        x=alt.X('Suppliers:N', sort=alt.SortField(field='Indcode_suppliers', order='descending'), \n",
    "                axis=alt.Axis(labelAngle=45)),\n",
    "        y=alt.Y('Buyers:N', sort=alt.SortField(field='Indcode', order='ascending'), \n",
    "                axis=alt.Axis(orient='right')),\n",
    "        color = alt.Color('value:Q', legend=alt.Legend(orient='right')),\n",
    "        tooltip=['Buyers', 'Suppliers','value']).add_selection(selector)\n",
    "\n",
    "    # Points and text\n",
    "    hover = alt.selection(type='single', on='mouseover', nearest=True,\n",
    "                          fields=['Latitude (average)', 'Longitude (average)'])\n",
    "\n",
    "    base = alt.Chart(data_countries).encode(\n",
    "        longitude='Longitude (average):Q',\n",
    "        latitude='Latitude (average):Q',\n",
    "    )\n",
    "\n",
    "    text = base.mark_text(dy=-5, align='right').encode(\n",
    "        alt.Text('country', type='nominal'),\n",
    "        opacity=alt.condition(~selector, alt.value(0), alt.value(1))\n",
    "    )\n",
    "\n",
    "    points = base.mark_point().encode(\n",
    "        color=alt.condition(selector, 'country:N', alt.value('lightgray'), \n",
    "                            legend=alt.Legend(orient='top', columns=17, symbolLimit=50), title='Select Country'),\n",
    "        size=alt.condition(~hover, alt.value(30), alt.value(100))\n",
    "    ).add_selection(hover).add_selection(selector)\n",
    "\n",
    "    filter_chart_1 = chart_1.add_selection(selector).transform_filter(\n",
    "        selector).properties(title=\"Impact of each Sector by country\")\n",
    "\n",
    "    text_1 = alt.Chart().mark_text(dy=-300, size=20).encode(\n",
    "        alt.Text('country', type='nominal')\n",
    "    ).transform_filter(\n",
    "        selector\n",
    "    )\n",
    "\n",
    "    filter_chart_2 = chart_2.add_selection(selector).transform_filter(\n",
    "        selector).properties(title=\"Markups by country\")\n",
    "\n",
    "    filter_chart_3 = chart_3.add_selection(selector).transform_filter(\n",
    "        selector).properties(title=\"I/O parameters by country\")\n",
    "    graph = ((background + points + text) & (filter_chart_1 ) & (filter_chart_2 ) & ( filter_chart_3 ))\n",
    "    return graph\n"
   ]
  },
  {
   "cell_type": "code",
   "execution_count": 3,
   "metadata": {},
   "outputs": [
    {
     "data": {
      "application/vnd.jupyter.widget-view+json": {
       "model_id": "4b080ef9b26b46288a7e7c7f17bdd89a",
       "version_major": 2,
       "version_minor": 0
      },
      "text/plain": [
       "interactive(children=(SelectionSlider(description='sigma', options=(0.01, 0.7, 1), value=0.01), SelectionSlide…"
      ]
     },
     "metadata": {},
     "output_type": "display_data"
    }
   ],
   "source": [
    "#hide_input\n",
    "from ipywidgets.embed import embed_minimal_html\n",
    "from IPython.display import HTML\n",
    "import ipywidgets as widgets\n",
    "import pandas as pd\n",
    "\n",
    "\n",
    "def tab_importer(sigma,rho):\n",
    "    tab_name = 'Param_pcm1_esig_{:3.2f}_erho_{:3.2f}'.format(sigma,rho)\n",
    "    data = pd.read_excel(\"C:\\\\Users\\\\julie\\\\Documents\\\\GitHub\\\\test-blog\\\\input_data\\\\results_baseline.xlsx\",\n",
    "                         sheet_name=tab_name)\n",
    "    graph = prepare_graphs(data)\n",
    "    graph\n",
    "    \n",
    "full_widget = widgets.interact_manual(tab_importer,sigma=widgets.SelectionSlider(options=[0.01,0.7,1]), \n",
    "                        rho = widgets.SelectionSlider(options=[0.01,0.7,1]))\n",
    "#embed_minimal_html('export.html', views=[full_widget], title='Widgets export')\n",
    "\n"
   ]
  },
  {
   "cell_type": "code",
   "execution_count": null,
   "metadata": {},
   "outputs": [],
   "source": []
  },
  {
   "cell_type": "code",
   "execution_count": null,
   "metadata": {},
   "outputs": [],
   "source": []
  }
 ],
 "metadata": {
  "kernelspec": {
   "display_name": "Python 3",
   "language": "python",
   "name": "python3"
  },
  "language_info": {
   "codemirror_mode": {
    "name": "ipython",
    "version": 3
   },
   "file_extension": ".py",
   "mimetype": "text/x-python",
   "name": "python",
   "nbconvert_exporter": "python",
   "pygments_lexer": "ipython3",
   "version": "3.7.7"
  },
  "widgets": {
   "application/vnd.jupyter.widget-state+json": {
    "state": {
     "08a941fdf6cc42158d792ad65830e11f": {
      "model_module": "@jupyter-widgets/controls",
      "model_module_version": "1.5.0",
      "model_name": "SliderStyleModel",
      "state": {
       "description_width": ""
      }
     },
     "1233c64f14244656963e778ab4893f8a": {
      "model_module": "@jupyter-widgets/base",
      "model_module_version": "1.2.0",
      "model_name": "LayoutModel",
      "state": {}
     },
     "183fc1965d2249fbab27a8985761eb7a": {
      "model_module": "@jupyter-widgets/base",
      "model_module_version": "1.2.0",
      "model_name": "LayoutModel",
      "state": {}
     },
     "19c8638160584d25bfe468c3aec74a3d": {
      "model_module": "@jupyter-widgets/controls",
      "model_module_version": "1.5.0",
      "model_name": "FloatSliderModel",
      "state": {
       "continuous_update": false,
       "description": "Test:",
       "layout": "IPY_MODEL_455c846842de449199413070cf520d93",
       "max": 10,
       "readout_format": ".1f",
       "step": 0.1,
       "style": "IPY_MODEL_08a941fdf6cc42158d792ad65830e11f",
       "value": 7.4
      }
     },
     "1c0129ddb1bf4593881a9549742a50e6": {
      "model_module": "@jupyter-widgets/controls",
      "model_module_version": "1.5.0",
      "model_name": "SliderStyleModel",
      "state": {
       "description_width": ""
      }
     },
     "389a5c0d0a824a4d83c417e7105d825a": {
      "model_module": "@jupyter-widgets/controls",
      "model_module_version": "1.5.0",
      "model_name": "FloatSliderModel",
      "state": {
       "continuous_update": false,
       "description": "Test:",
       "layout": "IPY_MODEL_c17b8123b258415c839630bca0decd64",
       "max": 10,
       "readout_format": ".1f",
       "step": 0.1,
       "style": "IPY_MODEL_8ad92ec10fba4475981ccb72e5a9b8ea",
       "value": 7.5
      }
     },
     "424802e9210d47c4ac32f3f3e2c82c79": {
      "model_module": "@jupyter-widgets/controls",
      "model_module_version": "1.5.0",
      "model_name": "FloatSliderModel",
      "state": {
       "continuous_update": false,
       "description": "Test:",
       "layout": "IPY_MODEL_f640c5660902466a829b1072a205ec71",
       "max": 10,
       "readout_format": ".1f",
       "step": 0.1,
       "style": "IPY_MODEL_1c0129ddb1bf4593881a9549742a50e6",
       "value": 7.5
      }
     },
     "43d7c5f9b87947ef88ccaab15eec6c45": {
      "model_module": "@jupyter-widgets/controls",
      "model_module_version": "1.5.0",
      "model_name": "FloatSliderModel",
      "state": {
       "continuous_update": false,
       "description": "Test:",
       "layout": "IPY_MODEL_183fc1965d2249fbab27a8985761eb7a",
       "max": 10,
       "readout_format": ".1f",
       "step": 0.1,
       "style": "IPY_MODEL_8fb03b4a8cb04a15953e64c58f2690da",
       "value": 7.5
      }
     },
     "455c846842de449199413070cf520d93": {
      "model_module": "@jupyter-widgets/base",
      "model_module_version": "1.2.0",
      "model_name": "LayoutModel",
      "state": {}
     },
     "87253b1003d94d5e97a3b4f03fbed803": {
      "model_module": "@jupyter-widgets/controls",
      "model_module_version": "1.5.0",
      "model_name": "SliderStyleModel",
      "state": {
       "description_width": ""
      }
     },
     "8ad92ec10fba4475981ccb72e5a9b8ea": {
      "model_module": "@jupyter-widgets/controls",
      "model_module_version": "1.5.0",
      "model_name": "SliderStyleModel",
      "state": {
       "description_width": ""
      }
     },
     "8fb03b4a8cb04a15953e64c58f2690da": {
      "model_module": "@jupyter-widgets/controls",
      "model_module_version": "1.5.0",
      "model_name": "SliderStyleModel",
      "state": {
       "description_width": ""
      }
     },
     "a044bf09b9e244a79f7c43f69bf87787": {
      "model_module": "@jupyter-widgets/base",
      "model_module_version": "1.2.0",
      "model_name": "LayoutModel",
      "state": {}
     },
     "a3e70595a0e349d6b6bcbb622f1a4427": {
      "model_module": "@jupyter-widgets/controls",
      "model_module_version": "1.5.0",
      "model_name": "FloatSliderModel",
      "state": {
       "continuous_update": false,
       "description": "Test:",
       "layout": "IPY_MODEL_a044bf09b9e244a79f7c43f69bf87787",
       "max": 10,
       "readout_format": ".1f",
       "step": 0.1,
       "style": "IPY_MODEL_cb92e1fd17024b8eb53c53d3eed90db8",
       "value": 7.5
      }
     },
     "c17b8123b258415c839630bca0decd64": {
      "model_module": "@jupyter-widgets/base",
      "model_module_version": "1.2.0",
      "model_name": "LayoutModel",
      "state": {}
     },
     "cb92e1fd17024b8eb53c53d3eed90db8": {
      "model_module": "@jupyter-widgets/controls",
      "model_module_version": "1.5.0",
      "model_name": "SliderStyleModel",
      "state": {
       "description_width": ""
      }
     },
     "f640c5660902466a829b1072a205ec71": {
      "model_module": "@jupyter-widgets/base",
      "model_module_version": "1.2.0",
      "model_name": "LayoutModel",
      "state": {}
     },
     "febc651f176d4bd89c1c1a621dd7e82d": {
      "model_module": "@jupyter-widgets/controls",
      "model_module_version": "1.5.0",
      "model_name": "FloatSliderModel",
      "state": {
       "continuous_update": false,
       "description": "Test:",
       "layout": "IPY_MODEL_1233c64f14244656963e778ab4893f8a",
       "max": 10,
       "readout_format": ".1f",
       "step": 0.1,
       "style": "IPY_MODEL_87253b1003d94d5e97a3b4f03fbed803",
       "value": 7.5
      }
     }
    },
    "version_major": 2,
    "version_minor": 0
   }
  }
 },
 "nbformat": 4,
 "nbformat_minor": 4
}
